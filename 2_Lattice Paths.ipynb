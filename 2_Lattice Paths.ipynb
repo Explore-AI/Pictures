{
 "cells": [
  {
   "cell_type": "markdown",
   "metadata": {},
   "source": [
    "## You may remember one of our quiz problems in your initial application:"
   ]
  },
  {
   "cell_type": "markdown",
   "metadata": {},
   "source": [
    "What are the number of routes to get from the top left corner to the bottom right corner. You are only allowed to travel on a line and have two - different moves available: right or down. One possible route is given in red below."
   ]
  },
  {
   "cell_type": "markdown",
   "metadata": {},
   "source": [
    "![Lattice Paths](https://github.com/Explore-AI/Pictures/blob/master/lattice.png?raw=true)"
   ]
  },
  {
   "cell_type": "markdown",
   "metadata": {},
   "source": [
    "```A:  1,024\n",
    "B: 11,250\t\n",
    "C: 12,870\n",
    "D: 25,600```"
   ]
  },
  {
   "cell_type": "markdown",
   "metadata": {},
   "source": [
    "# [Lattice Paths](https://projecteuler.net/problem=15)"
   ]
  },
  {
   "cell_type": "markdown",
   "metadata": {},
   "source": [
    "This is the same problem as one of Project Euler's problems. Starting in the top left corner of a 2×2 grid, and only being able to move to the right and down, there are exactly 6 routes to the bottom right corner.\n",
    "\n",
    "![Euler_Lattice](http://github.com/Explore-AI/Pictures/blob/master/p015.gif?raw=true)"
   ]
  },
  {
   "cell_type": "markdown",
   "metadata": {},
   "source": [
    "How many such routes are there through a 20×20 grid? "
   ]
  },
  {
   "cell_type": "markdown",
   "metadata": {},
   "source": [
    "In our quiz we gave you an 8 x 8, and in the tutorial that follows we will show how you can build python code to solve this problem for a grid of **any** size - using three different algorithms. Neither of these solutions is the *best* as they all differ in the amount of time and space complexity they exhibit."
   ]
  },
  {
   "cell_type": "markdown",
   "metadata": {},
   "source": [
    "This tutorial is based off Project Euler problem 15: [Lattice Paths](https://projecteuler.net/problem=15). The full overview can be found here: [Overview](https://projecteuler.net/overview=015)"
   ]
  },
  {
   "cell_type": "markdown",
   "metadata": {},
   "source": [
    "# Proposed Solution"
   ]
  },
  {
   "cell_type": "code",
   "execution_count": 22,
   "metadata": {
    "collapsed": true
   },
   "outputs": [],
   "source": [
    "# import the required libraries\n",
    "import numpy as np   \n",
    "import pandas as pd\n",
    "%matplotlib inline"
   ]
  },
  {
   "cell_type": "markdown",
   "metadata": {},
   "source": [
    "## Iterative Solution\n",
    "\n",
    "The most basic iterative solution involves using a bottom-up programming technique called dynamic programming. Instead of starting from $n = 20$ and $m = 20$ and working our way\n",
    "down, we can start from the bottom “base cases” and work our way up, saving the results in a\n",
    "two-dimensional array (which we’ll denote via $“grid”$) where $grid[i][j]$ corresponds to the result\n",
    "`count_routes(i, j)`.\n",
    "\n",
    "A “base case” is typically the simplest case from the starting point. For us, that’s any time m or n equals 0, for which the result is always 1 (i.e. there is only one way to get there). So we initialize all $grid[i][0]$ and $grid[0][j]$ to 1 and then iterate across all $i ≤ m$ and $j ≤ n$ to calculate each result, storing the results in the array as we go. At the very end, $grid[m][n]$ will have the desired answer."
   ]
  },
  {
   "cell_type": "code",
   "execution_count": 2,
   "metadata": {
    "collapsed": true
   },
   "outputs": [],
   "source": [
    "def count_routes_iterative(m, n):\n",
    "    grid = np.ndarray((m+1, n+1))\n",
    "    \n",
    "    for i in range(m+1):\n",
    "        grid[i][0] = 1\n",
    "    \n",
    "    for j in range(n+1):\n",
    "        grid[0][j] = 1\n",
    "        \n",
    "    for i in range(1, m + 1):\n",
    "        for j in range(1, n + 1):\n",
    "            grid[i][j] = grid[i-1][j] +grid[i][j-1]  #DB why we use this step is unclear          \n",
    "    \n",
    "    return grid[m][n]\n",
    "    "
   ]
  },
  {
   "cell_type": "code",
   "execution_count": 3,
   "metadata": {},
   "outputs": [
    {
     "data": {
      "text/plain": [
       "6.0"
      ]
     },
     "execution_count": 3,
     "metadata": {},
     "output_type": "execute_result"
    }
   ],
   "source": [
    "count_routes_iterative(2, 2)"
   ]
  },
  {
   "cell_type": "code",
   "execution_count": 4,
   "metadata": {},
   "outputs": [
    {
     "data": {
      "text/plain": [
       "12870.0"
      ]
     },
     "execution_count": 4,
     "metadata": {},
     "output_type": "execute_result"
    }
   ],
   "source": [
    "count_routes_iterative(8, 8)"
   ]
  },
  {
   "cell_type": "markdown",
   "metadata": {},
   "source": [
    "Whew! We got one of the answers on the quiz!"
   ]
  },
  {
   "cell_type": "code",
   "execution_count": 5,
   "metadata": {},
   "outputs": [
    {
     "data": {
      "text/plain": [
       "137846528820.0"
      ]
     },
     "execution_count": 5,
     "metadata": {},
     "output_type": "execute_result"
    }
   ],
   "source": [
    "count_routes_iterative(20, 20)"
   ]
  },
  {
   "cell_type": "markdown",
   "metadata": {},
   "source": [
    "## Recursive Implementation"
   ]
  },
  {
   "cell_type": "markdown",
   "metadata": {},
   "source": [
    "We could also get to the answer recursively - starting at the end and working our way to the start. By inspection, the number of routes from (0, 0) to (m, n) is equal to the number of routes from (0, 0) to (m − 1, n) plus the number of routes from (0, 0) to (m, n − 1). This implies a very simple recursive algorithm:"
   ]
  },
  {
   "cell_type": "code",
   "execution_count": 6,
   "metadata": {
    "collapsed": true
   },
   "outputs": [],
   "source": [
    "def count_routes_recursive(m, n):    \n",
    "    if (n == 0) | (m == 0):\n",
    "        return 1    \n",
    "    \n",
    "    return count_routes_recursive(m, n - 1) + count_routes_recursive(m - 1, n)"
   ]
  },
  {
   "cell_type": "code",
   "execution_count": 7,
   "metadata": {},
   "outputs": [
    {
     "data": {
      "text/plain": [
       "6"
      ]
     },
     "execution_count": 7,
     "metadata": {},
     "output_type": "execute_result"
    }
   ],
   "source": [
    "count_routes_recursive(2, 2)"
   ]
  },
  {
   "cell_type": "code",
   "execution_count": 8,
   "metadata": {},
   "outputs": [
    {
     "data": {
      "text/plain": [
       "12870"
      ]
     },
     "execution_count": 8,
     "metadata": {},
     "output_type": "execute_result"
    }
   ],
   "source": [
    "count_routes_recursive(8, 8)"
   ]
  },
  {
   "cell_type": "code",
   "execution_count": 9,
   "metadata": {
    "collapsed": true
   },
   "outputs": [],
   "source": [
    "# only for the brave! take out the comment below if you want to see if this works?\n",
    "# count_routes_recursive(20, 20)"
   ]
  },
  {
   "cell_type": "markdown",
   "metadata": {},
   "source": [
    "However, it is too slow to give the answer in reasonable time: consider that count_routes_recursive(20, 20)\n",
    "calls count_routes_recursive(20, 19) and count_routes_recursive(19, 20). The former calls count_routes_recursive(20, 18)\n",
    "and count_routes_recursive(19, 19), while the latter calls count_routes_recursive(19, 19) and count_routes_recursive(18, 20). \n",
    "\n",
    "Notice how count_routes_recursive(19, 19) is present in both of those branches two levels down from the\n",
    "top. Our algorithm is recomputing the same results multiple times. This problem only gets worse\n",
    "as we delve deeper into the recursion. This can be avoided by using memoization, a top-down\n",
    "programming technique of caching results for later use. This way each result is only calculated\n",
    "once."
   ]
  },
  {
   "cell_type": "code",
   "execution_count": 10,
   "metadata": {},
   "outputs": [],
   "source": [
    "def count_routes_recursive_lookup(m,n, cache={}):\n",
    "    if (n == 0) | (m == 0):\n",
    "        return  1\n",
    "    try:\n",
    "        return cache[(m, n)]\n",
    "    \n",
    "    except KeyError:                      # this will catch any result that hasnt been calculated before\n",
    "        cache[(m, n)] =   count_routes_recursive_lookup(m, n-1, cache) \\\n",
    "                        + count_routes_recursive_lookup(m-1, n, cache)\n",
    "        return cache[(m, n)]\n"
   ]
  },
  {
   "cell_type": "code",
   "execution_count": 11,
   "metadata": {},
   "outputs": [
    {
     "data": {
      "text/plain": [
       "6"
      ]
     },
     "execution_count": 11,
     "metadata": {},
     "output_type": "execute_result"
    }
   ],
   "source": [
    "count_routes_recursive_lookup(2,2)"
   ]
  },
  {
   "cell_type": "code",
   "execution_count": 12,
   "metadata": {},
   "outputs": [
    {
     "data": {
      "text/plain": [
       "12870"
      ]
     },
     "execution_count": 12,
     "metadata": {},
     "output_type": "execute_result"
    }
   ],
   "source": [
    "count_routes_recursive_lookup(8,8)"
   ]
  },
  {
   "cell_type": "code",
   "execution_count": 13,
   "metadata": {},
   "outputs": [
    {
     "data": {
      "text/plain": [
       "137846528820"
      ]
     },
     "execution_count": 13,
     "metadata": {},
     "output_type": "execute_result"
    }
   ],
   "source": [
    "count_routes_recursive_lookup(20,20)"
   ]
  },
  {
   "cell_type": "markdown",
   "metadata": {},
   "source": [
    "Notice that the cache-lookup code comes after the 0-check for m and n. These two pieces could\n",
    "technically go in either order and work just fine for our purposes, but there’s really no need to\n",
    "spend time/resources performing a dictionary lookup if we can “quit” early."
   ]
  },
  {
   "cell_type": "markdown",
   "metadata": {},
   "source": [
    "While the memoized recursion may be suitable for the purposes of the problem, memoized recursion\n",
    "often requires more memory, and some languages have trouble with deeply-nested recursive\n",
    "calls."
   ]
  },
  {
   "cell_type": "markdown",
   "metadata": {},
   "source": [
    "## Combinatorial Solution\n",
    "However, these solutions are both O(mn), and we can do better using combinatorics. In a grid of\n",
    "size m by n, we know that no matter what path we take, there will be exactly $m$ movements to the\n",
    "right (R) and $n$ movements down (D). This means the pathway can be represented as a string of\n",
    "R’s and D’s of length $m + n$.\n",
    "\n",
    "How many ways can we allocate $m$ R’s and $n$ D’s in such a string? Note that for a single configuration, once we place the the R’s we immediately know where the D’s must go (as they cannot go\n",
    "anywhere else). All we really have to know is how many ways we can place the R’s. The number\n",
    "of ways we can do this, mathematically, is denoted with the binomial coefficient $^{m+n}C_{m}$."
   ]
  },
  {
   "cell_type": "markdown",
   "metadata": {},
   "source": [
    "This is called a combination, the number of ways of choosing k items from a group of n items where\n",
    "the order of the k items does not matter <br> $^{n}C_{k} = \\frac{n!}{k!(n-k)!} = \\frac{n(n-1)...(n-k-1)}{k!}$"
   ]
  },
  {
   "cell_type": "markdown",
   "metadata": {},
   "source": [
    "Using this formula, we can calculate m+n $^{m+n}C_{m}$ for general $m$ and $n$, but seeing as our grid is a perfect square $(m=n)$:\n",
    "$^{2n}C_{n} = \\frac{2n(2n-1)...(n+2)(n+1)}{n(n-1)...\\times 2 \\times 1} = \\prod^{n}_{i=1}\\frac{n+i}{i}$."
   ]
  },
  {
   "cell_type": "markdown",
   "metadata": {},
   "source": [
    "This gives us a much faster O(n) solution:"
   ]
  },
  {
   "cell_type": "code",
   "execution_count": 14,
   "metadata": {
    "collapsed": true
   },
   "outputs": [],
   "source": [
    "def count_routes_combin(n):\n",
    "    result = 1\n",
    "    \n",
    "    for i in range(n):\n",
    "        result = result * (n+i+1) / (i+1)\n",
    "    \n",
    "    return result"
   ]
  },
  {
   "cell_type": "code",
   "execution_count": 15,
   "metadata": {},
   "outputs": [
    {
     "data": {
      "text/plain": [
       "6.0"
      ]
     },
     "execution_count": 15,
     "metadata": {},
     "output_type": "execute_result"
    }
   ],
   "source": [
    "count_routes_combin(2)"
   ]
  },
  {
   "cell_type": "code",
   "execution_count": 16,
   "metadata": {},
   "outputs": [
    {
     "data": {
      "text/plain": [
       "137846528820.0"
      ]
     },
     "execution_count": 16,
     "metadata": {},
     "output_type": "execute_result"
    }
   ],
   "source": [
    "count_routes_combin(20)"
   ]
  },
  {
   "cell_type": "markdown",
   "metadata": {},
   "source": [
    "# Algortihmic Complexity Demonstration"
   ]
  },
  {
   "cell_type": "markdown",
   "metadata": {},
   "source": [
    "Let's test to see if this does indeed scale as expected..."
   ]
  },
  {
   "cell_type": "code",
   "execution_count": 23,
   "metadata": {
    "collapsed": true
   },
   "outputs": [],
   "source": [
    "number = [2, 5, 10, 20, 50]\n",
    "output = []\n",
    "for n in number:\n",
    "    out_combin    = %timeit -o -q count_routes_combin(n)\n",
    "    out_iter      = %timeit -o -q count_routes_iterative(n, n)\n",
    "    out_recur_lu  = %timeit -o -q count_routes_recursive_lookup(n, n) \n",
    "    if n <= 10:\n",
    "        out_recur = %timeit -o -q count_routes_recursive(n, n) \n",
    "    else:\n",
    "        out_recur = None\n",
    "    output.append([n, out_combin.best, out_iter.best,out_recur_lu.best, out_recur.best if n <= 10 else None])"
   ]
  },
  {
   "cell_type": "code",
   "execution_count": 24,
   "metadata": {},
   "outputs": [],
   "source": [
    "output = pd.DataFrame(output, columns=['Grid Size', 'Combinations', 'Iterative', 'Recursive Lookup', 'Recursive'])\n",
    "output.set_index('Grid Size', inplace=True)"
   ]
  },
  {
   "cell_type": "code",
   "execution_count": 25,
   "metadata": {},
   "outputs": [
    {
     "data": {
      "text/plain": [
       "<matplotlib.axes._subplots.AxesSubplot at 0x91197f0>"
      ]
     },
     "execution_count": 25,
     "metadata": {},
     "output_type": "execute_result"
    },
    {
     "data": {
      "image/png": "[encoded data removed]",
      "text/plain": [
       "<matplotlib.figure.Figure at 0x9109d30>"
      ]
     },
     "metadata": {},
     "output_type": "display_data"
    }
   ],
   "source": [
    "output.plot(title='Time taken to solve Lattice Paths of various sizes')"
   ]
  },
  {
   "cell_type": "code",
   "execution_count": 26,
   "metadata": {},
   "outputs": [
    {
     "data": {
      "text/plain": [
       "<matplotlib.axes._subplots.AxesSubplot at 0x91c3908>"
      ]
     },
     "execution_count": 26,
     "metadata": {},
     "output_type": "execute_result"
    },
    {
     "data": {
      "image/png": "[encoded data removed]",
      "text/plain": [
       "<matplotlib.figure.Figure at 0x91b2dd8>"
      ]
     },
     "metadata": {},
     "output_type": "display_data"
    }
   ],
   "source": [
    "output[['Combinations', 'Iterative', 'Recursive Lookup']].plot(title='Notice how the Iterative method scales with time')"
   ]
  },
  {
   "cell_type": "code",
   "execution_count": null,
   "metadata": {
    "collapsed": true
   },
   "outputs": [],
   "source": []
  }
 ],
 "metadata": {
  "kernelspec": {
   "display_name": "Python 3",
   "language": "python",
   "name": "python3"
  },
  "language_info": {
   "codemirror_mode": {
    "name": "ipython",
    "version": 3
   },
   "file_extension": ".py",
   "mimetype": "text/x-python",
   "name": "python",
   "nbconvert_exporter": "python",
   "pygments_lexer": "ipython3",
   "version": "3.6.3"
  }
 },
 "nbformat": 4,
 "nbformat_minor": 2
}
